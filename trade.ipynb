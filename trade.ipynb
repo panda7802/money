{
 "cells": [
  {
   "cell_type": "code",
   "execution_count": 7,
   "metadata": {
    "collapsed": true
   },
   "outputs": [
    {
     "data": {
      "text/plain": "           symbol   name area industry market list_date delist_date\nts_code                                                            \n000150.SZ  000150   宜华健康   广东     医疗保健     主板  20000807        None\n000503.SZ  000503   国新健康   海南     医疗保健     主板  19921130        None\n000509.SZ  000509  *ST华塑   四川     医疗保健     主板  19930507        None\n000516.SZ  000516   国际医学   陕西     医疗保健     主板  19930809        None\n000710.SZ  000710   贝瑞基因   四川     医疗保健     主板  19970422        None\n...           ...    ...  ...      ...    ...       ...         ...\n688617.SH  688617   惠泰医疗   深圳     医疗保健    科创板  20210107        None\n688621.SH  688621   阳光诺和   北京     医疗保健    科创板  20210621        None\n688626.SH  688626   翔宇医疗   河南     医疗保健    科创板  20210331        None\n688677.SH  688677   海泰新光   山东     医疗保健    科创板  20210226        None\n688767.SH  688767   博拓生物   浙江     医疗保健    科创板  20210908        None\n\n[122 rows x 7 columns]",
      "text/html": "<div>\n<style scoped>\n    .dataframe tbody tr th:only-of-type {\n        vertical-align: middle;\n    }\n\n    .dataframe tbody tr th {\n        vertical-align: top;\n    }\n\n    .dataframe thead th {\n        text-align: right;\n    }\n</style>\n<table border=\"1\" class=\"dataframe\">\n  <thead>\n    <tr style=\"text-align: right;\">\n      <th></th>\n      <th>symbol</th>\n      <th>name</th>\n      <th>area</th>\n      <th>industry</th>\n      <th>market</th>\n      <th>list_date</th>\n      <th>delist_date</th>\n    </tr>\n    <tr>\n      <th>ts_code</th>\n      <th></th>\n      <th></th>\n      <th></th>\n      <th></th>\n      <th></th>\n      <th></th>\n      <th></th>\n    </tr>\n  </thead>\n  <tbody>\n    <tr>\n      <th>000150.SZ</th>\n      <td>000150</td>\n      <td>宜华健康</td>\n      <td>广东</td>\n      <td>医疗保健</td>\n      <td>主板</td>\n      <td>20000807</td>\n      <td>None</td>\n    </tr>\n    <tr>\n      <th>000503.SZ</th>\n      <td>000503</td>\n      <td>国新健康</td>\n      <td>海南</td>\n      <td>医疗保健</td>\n      <td>主板</td>\n      <td>19921130</td>\n      <td>None</td>\n    </tr>\n    <tr>\n      <th>000509.SZ</th>\n      <td>000509</td>\n      <td>*ST华塑</td>\n      <td>四川</td>\n      <td>医疗保健</td>\n      <td>主板</td>\n      <td>19930507</td>\n      <td>None</td>\n    </tr>\n    <tr>\n      <th>000516.SZ</th>\n      <td>000516</td>\n      <td>国际医学</td>\n      <td>陕西</td>\n      <td>医疗保健</td>\n      <td>主板</td>\n      <td>19930809</td>\n      <td>None</td>\n    </tr>\n    <tr>\n      <th>000710.SZ</th>\n      <td>000710</td>\n      <td>贝瑞基因</td>\n      <td>四川</td>\n      <td>医疗保健</td>\n      <td>主板</td>\n      <td>19970422</td>\n      <td>None</td>\n    </tr>\n    <tr>\n      <th>...</th>\n      <td>...</td>\n      <td>...</td>\n      <td>...</td>\n      <td>...</td>\n      <td>...</td>\n      <td>...</td>\n      <td>...</td>\n    </tr>\n    <tr>\n      <th>688617.SH</th>\n      <td>688617</td>\n      <td>惠泰医疗</td>\n      <td>深圳</td>\n      <td>医疗保健</td>\n      <td>科创板</td>\n      <td>20210107</td>\n      <td>None</td>\n    </tr>\n    <tr>\n      <th>688621.SH</th>\n      <td>688621</td>\n      <td>阳光诺和</td>\n      <td>北京</td>\n      <td>医疗保健</td>\n      <td>科创板</td>\n      <td>20210621</td>\n      <td>None</td>\n    </tr>\n    <tr>\n      <th>688626.SH</th>\n      <td>688626</td>\n      <td>翔宇医疗</td>\n      <td>河南</td>\n      <td>医疗保健</td>\n      <td>科创板</td>\n      <td>20210331</td>\n      <td>None</td>\n    </tr>\n    <tr>\n      <th>688677.SH</th>\n      <td>688677</td>\n      <td>海泰新光</td>\n      <td>山东</td>\n      <td>医疗保健</td>\n      <td>科创板</td>\n      <td>20210226</td>\n      <td>None</td>\n    </tr>\n    <tr>\n      <th>688767.SH</th>\n      <td>688767</td>\n      <td>博拓生物</td>\n      <td>浙江</td>\n      <td>医疗保健</td>\n      <td>科创板</td>\n      <td>20210908</td>\n      <td>None</td>\n    </tr>\n  </tbody>\n</table>\n<p>122 rows × 7 columns</p>\n</div>"
     },
     "execution_count": 7,
     "metadata": {},
     "output_type": "execute_result"
    }
   ],
   "source": [
    "\n",
    "import tushare as ts\n",
    "\n",
    "# 行业分析\n",
    "\n",
    "# pro = ts.pro_api()\n",
    "tu_token = 'fba0f69c02f5e4399b8dd63ae895ca69b7a55122a545c6f0f2c2bef3'\n",
    "ts.set_token(tu_token)\n",
    "pro = ts.pro_api(tu_token)\n",
    "\n",
    "# 目标\n",
    "obj_ts_code=\"002223.SZ\"\n",
    "\n",
    "# 目标行业\n",
    "pro.stock_basic(exchange='',fields='industry')\n",
    "\n",
    "# 行业\n",
    "trade=pro.stock_basic(exchange='',ts_code=obj_ts_code, fields='industry').iloc[0]['industry']\n",
    "\n",
    "#查询当前所有正常上市交易的股票列表\n",
    "data = pro.stock_basic(exchange='', fields='ts_code,symbol,name,area,industry,market,delist_date,list_date')\n",
    "data = data[data['industry']==trade]\n",
    "data = data.set_index('ts_code', drop=True)\n",
    "data.to_csv(\"../%s.csv\"% trade)\n",
    "\n",
    "# 先获取2019年各个股平均值作为基数，判断2020年之后和基数的比较\n"
   ]
  }
 ],
 "metadata": {
  "kernelspec": {
   "display_name": "Python 3",
   "language": "python",
   "name": "python3"
  },
  "language_info": {
   "codemirror_mode": {
    "name": "ipython",
    "version": 2
   },
   "file_extension": ".py",
   "mimetype": "text/x-python",
   "name": "python",
   "nbconvert_exporter": "python",
   "pygments_lexer": "ipython2",
   "version": "2.7.6"
  }
 },
 "nbformat": 4,
 "nbformat_minor": 0
}