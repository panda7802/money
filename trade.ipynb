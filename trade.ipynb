{
 "cells": [
  {
   "cell_type": "code",
   "execution_count": 59,
   "metadata": {
    "collapsed": true,
    "pycharm": {
     "name": "#%%\n"
    }
   },
   "outputs": [
    {
     "name": "stdout",
     "output_type": "stream",
     "text": [
      "['002223.SZ', '000150.SZ', '000503.SZ', '000509.SZ', '000516.SZ', '000710.SZ', '002022.SZ', '002044.SZ', '002173.SZ', '002382.SZ', '002432.SZ', '002524.SZ', '002551.SZ', '002614.SZ', '002901.SZ', '002932.SZ', '002950.SZ', '300003.SZ', '300015.SZ', '300030.SZ', '300049.SZ', '300143.SZ', '300146.SZ', '300171.SZ', '300206.SZ', '300238.SZ', '300244.SZ', '300246.SZ', '300247.SZ', '300273.SZ', '300298.SZ', '300314.SZ', '300318.SZ', '300326.SZ', '300347.SZ', '300358.SZ', '300396.SZ', '300404.SZ', '300406.SZ', '300412.SZ', '300439.SZ', '300453.SZ', '300463.SZ', '300482.SZ', '300529.SZ', '300562.SZ', '300595.SZ', '300633.SZ', '300639.SZ', '300642.SZ', '300653.SZ', '300676.SZ', '300677.SZ', '300753.SZ', '300760.SZ', '300791.SZ', '300813.SZ', '300832.SZ', '300869.SZ', '300888.SZ', '300896.SZ', '300981.SZ', '301033.SZ', '301047.SZ', '301060.SZ', '600055.SH', '600381.SH', '600529.SH', '600530.SH', '600532.SH', '600587.SH', '600763.SH', '600767.SH', '600896.SH', '603127.SH', '603301.SH', '603309.SH', '603387.SH', '603392.SH', '603579.SH', '603658.SH', '603880.SH', '603882.SH', '603976.SH', '603987.SH', '605186.SH', '605369.SH', '688013.SH', '688016.SH', '688029.SH', '688050.SH', '688067.SH', '688068.SH', '688085.SH', '688108.SH', '688139.SH', '688161.SH', '688198.SH', '688202.SH', '688277.SH', '688289.SH', '688298.SH', '688301.SH', '688310.SH', '688314.SH', '688315.SH', '688329.SH', '688338.SH', '688358.SH', '688389.SH', '688393.SH', '688399.SH', '688468.SH', '688575.SH', '688580.SH', '688607.SH', '688613.SH', '688617.SH', '688621.SH', '688626.SH', '688677.SH', '688767.SH']\n",
      "count = 122\n"
     ]
    },
    {
     "data": {
      "text/plain": "           name  20190101  20200101  20200201  20200301  20200401  20200501  \\\nts_code                                                                       \n002173.SZ  创新医疗  7.064221   5.88125    5.7765  5.771304  5.370952  5.272632   \n\n           20200601  20200701  20200801  ...  20201201  20210101  20210201  \\\nts_code                                  ...                                 \n002173.SZ  5.395238  6.051304  7.571818  ...  6.563478  5.580476   5.73375   \n\n           20210301  20210401  20210501  20210601  20210701  20210801  \\\nts_code                                                                 \n002173.SZ    6.4575  7.079524  8.113158     7.005      7.06  6.595217   \n\n           20210901  \nts_code              \n002173.SZ     6.426  \n\n[1 rows x 23 columns]",
      "text/html": "<div>\n<style scoped>\n    .dataframe tbody tr th:only-of-type {\n        vertical-align: middle;\n    }\n\n    .dataframe tbody tr th {\n        vertical-align: top;\n    }\n\n    .dataframe thead th {\n        text-align: right;\n    }\n</style>\n<table border=\"1\" class=\"dataframe\">\n  <thead>\n    <tr style=\"text-align: right;\">\n      <th></th>\n      <th>name</th>\n      <th>20190101</th>\n      <th>20200101</th>\n      <th>20200201</th>\n      <th>20200301</th>\n      <th>20200401</th>\n      <th>20200501</th>\n      <th>20200601</th>\n      <th>20200701</th>\n      <th>20200801</th>\n      <th>...</th>\n      <th>20201201</th>\n      <th>20210101</th>\n      <th>20210201</th>\n      <th>20210301</th>\n      <th>20210401</th>\n      <th>20210501</th>\n      <th>20210601</th>\n      <th>20210701</th>\n      <th>20210801</th>\n      <th>20210901</th>\n    </tr>\n    <tr>\n      <th>ts_code</th>\n      <th></th>\n      <th></th>\n      <th></th>\n      <th></th>\n      <th></th>\n      <th></th>\n      <th></th>\n      <th></th>\n      <th></th>\n      <th></th>\n      <th></th>\n      <th></th>\n      <th></th>\n      <th></th>\n      <th></th>\n      <th></th>\n      <th></th>\n      <th></th>\n      <th></th>\n      <th></th>\n      <th></th>\n    </tr>\n  </thead>\n  <tbody>\n    <tr>\n      <th>002173.SZ</th>\n      <td>创新医疗</td>\n      <td>7.064221</td>\n      <td>5.88125</td>\n      <td>5.7765</td>\n      <td>5.771304</td>\n      <td>5.370952</td>\n      <td>5.272632</td>\n      <td>5.395238</td>\n      <td>6.051304</td>\n      <td>7.571818</td>\n      <td>...</td>\n      <td>6.563478</td>\n      <td>5.580476</td>\n      <td>5.73375</td>\n      <td>6.4575</td>\n      <td>7.079524</td>\n      <td>8.113158</td>\n      <td>7.005</td>\n      <td>7.06</td>\n      <td>6.595217</td>\n      <td>6.426</td>\n    </tr>\n  </tbody>\n</table>\n<p>1 rows × 23 columns</p>\n</div>"
     },
     "execution_count": 59,
     "metadata": {},
     "output_type": "execute_result"
    }
   ],
   "source": [
    "import datetime\n",
    "import time\n",
    "import traceback\n",
    "\n",
    "import pandas as pd\n",
    "import tushare as ts\n",
    "\n",
    "# 行业分析\n",
    "\n",
    "# pro = ts.pro_api()\n",
    "from dateutil.relativedelta import relativedelta\n",
    "\n",
    "\n",
    "def get_mean_by_time(ts_code, start_date_in, end_date_in):\n",
    "    \"\"\"\n",
    "    根据时间获取平均数\n",
    "    :param ts_code:代码\n",
    "    :param start_date_in:开始时间\n",
    "    :param end_date_in:结束时间\n",
    "    :return:时间段内容\n",
    "    \"\"\"\n",
    "    df = pro.daily(ts_code=ts_code, start_date=start_date_in, end_date=end_date_in)\n",
    "    ser_mean = df['close'].groupby(by=df['ts_code']).mean()\n",
    "    dict_mean = {'ts_code': ser_mean.index, start_date_in: ser_mean.values}\n",
    "    df_mean = pd.DataFrame(dict_mean)\n",
    "    df_mean = df_mean.set_index('ts_code')\n",
    "    return df_mean\n",
    "\n",
    "\n",
    "tu_token = 'fba0f69c02f5e4399b8dd63ae895ca69b7a55122a545c6f0f2c2bef3'\n",
    "ts.set_token(tu_token)\n",
    "pro = ts.pro_api(tu_token)\n",
    "\n",
    "# 目标\n",
    "obj_ts_code = \"002223.SZ\"\n",
    "\n",
    "# 结束时间\n",
    "end_date = '20211001'\n",
    "\n",
    "# 目标行业\n",
    "pro.stock_basic(exchange='', fields='industry')\n",
    "\n",
    "# 行业\n",
    "trade = pro.stock_basic(exchange='', ts_code=obj_ts_code, fields='industry').iloc[0]['industry']\n",
    "\n",
    "#查询当前所有正常上市交易的股票列表\n",
    "data = pro.stock_basic(exchange='', fields='ts_code,name,area,industry,market,list_date')\n",
    "data = data[data['industry'] == trade]\n",
    "ts_codes = [obj_ts_code]\n",
    "\n",
    "# 获取同行业数据\n",
    "for index, row in data.iterrows():\n",
    "    if not ts_codes.__contains__(row['ts_code']):\n",
    "        ts_codes.append(row['ts_code'])\n",
    "\n",
    "# print(data)\n",
    "print(ts_codes)\n",
    "data = data.set_index('ts_code', drop=True)\n",
    "data.to_csv(\"../%s.csv\" % trade)\n",
    "\n",
    "str_dates = ['20190101']\n",
    "start_date = datetime.datetime.strptime('20200101', '%Y%m%d')\n",
    "\n",
    "# 获取时间列表\n",
    "for i in range(0, 100):\n",
    "    tmp_date = start_date + relativedelta(month=i % 12 + 1, years=i // 12)\n",
    "    if tmp_date > datetime.datetime.strptime(end_date, '%Y%m%d'):\n",
    "        break\n",
    "    else:\n",
    "        s_start_date = tmp_date.strftime(\"%Y%m%d\")\n",
    "        str_dates.append(s_start_date)\n",
    "\n",
    "\n",
    "def get_data_by_ts_code(ts_code):\n",
    "    df_res = get_mean_by_time(ts_code, str_dates[0], str_dates[1])\n",
    "    for j in range(1, len(str_dates) - 1):\n",
    "        df_tmp = get_mean_by_time(ts_code, str_dates[j], str_dates[j + 1])\n",
    "        df_res = df_res.join(df_tmp)\n",
    "    return df_res\n",
    "\n",
    "print(\"count = %d\" % len(ts_codes) )\n",
    "\n",
    "df_res = get_data_by_ts_code(ts_codes[0])\n",
    "for i in range(1, len(ts_codes)):\n",
    "    print(f'i = {i} : {ts_codes[i]}')\n",
    "    # 降低频率\n",
    "    time.sleep(10)\n",
    "    try :\n",
    "        df_tmp = get_data_by_ts_code(ts_codes[i])\n",
    "        df_res = df_res.append(df_tmp)\n",
    "    except Exception as e:\n",
    "        traceback.print_exc()\n",
    "    # print(df_tmp)\n",
    "\n",
    "data = pro.stock_basic(exchange='', fields='ts_code,name')\n",
    "data = data.set_index('ts_code', drop=True)\n",
    "df_res = data.join(df_res, how='inner')\n",
    "df_res.to_csv(f'../{trade}-整体.csv')\n",
    "df_res"
   ]
  }
 ],
 "metadata": {
  "kernelspec": {
   "display_name": "Python 3",
   "language": "python",
   "name": "python3"
  },
  "language_info": {
   "codemirror_mode": {
    "name": "ipython",
    "version": 2
   },
   "file_extension": ".py",
   "mimetype": "text/x-python",
   "name": "python",
   "nbconvert_exporter": "python",
   "pygments_lexer": "ipython2",
   "version": "2.7.6"
  }
 },
 "nbformat": 4,
 "nbformat_minor": 0
}