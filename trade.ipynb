{
 "cells": [
  {
   "cell_type": "code",
   "execution_count": 53,
   "metadata": {
    "collapsed": true,
    "pycharm": {
     "name": "#%%\n"
    }
   },
   "outputs": [
    {
     "name": "stdout",
     "output_type": "stream",
     "text": [
      "000150.SZ,000503.SZ,000509.SZ,000516.SZ,000710.SZ,002022.SZ,002044.SZ,002173.SZ,002223.SZ,002382.SZ,002432.SZ,002524.SZ,002551.SZ,002614.SZ,002901.SZ,002932.SZ,002950.SZ,300003.SZ,300015.SZ,300030.SZ,300049.SZ,300143.SZ,300146.SZ,300171.SZ,300206.SZ,300238.SZ,300244.SZ,300246.SZ,300247.SZ,300273.SZ,300298.SZ,300314.SZ,300318.SZ,300326.SZ,300347.SZ,300358.SZ,300396.SZ,300404.SZ,300406.SZ,300412.SZ,300439.SZ,300453.SZ,300463.SZ,300482.SZ,300529.SZ,300562.SZ,300595.SZ,300633.SZ,300639.SZ,300642.SZ,300653.SZ,300676.SZ,300677.SZ,300753.SZ,300760.SZ,300791.SZ,300813.SZ,300832.SZ,300869.SZ,300888.SZ,300896.SZ,300981.SZ,301033.SZ,301047.SZ,301060.SZ,600055.SH,600381.SH,600529.SH,600530.SH,600532.SH,600587.SH,600763.SH,600767.SH,600896.SH,603127.SH,603301.SH,603309.SH,603387.SH,603392.SH,603579.SH,603658.SH,603880.SH,603882.SH,603976.SH,603987.SH,605186.SH,605369.SH,688013.SH,688016.SH,688029.SH,688050.SH,688067.SH,688068.SH,688085.SH,688108.SH,688139.SH,688161.SH,688198.SH,688202.SH,688277.SH,688289.SH,688298.SH,688301.SH,688310.SH,688314.SH,688315.SH,688329.SH,688338.SH,688358.SH,688389.SH,688393.SH,688399.SH,688468.SH,688575.SH,688580.SH,688607.SH,688613.SH,688617.SH,688621.SH,688626.SH,688677.SH,688767.SH,\n"
     ]
    },
    {
     "ename": "Exception",
     "evalue": "列表个数超过限制100个！",
     "output_type": "error",
     "traceback": [
      "\u001B[1;31m---------------------------------------------------------------------------\u001B[0m",
      "\u001B[1;31mException\u001B[0m                                 Traceback (most recent call last)",
      "\u001B[1;32m~\\AppData\\Local\\Temp/ipykernel_8796/3923109750.py\u001B[0m in \u001B[0;36m<module>\u001B[1;34m\u001B[0m\n\u001B[0;32m     42\u001B[0m \u001B[1;33m\u001B[0m\u001B[0m\n\u001B[0;32m     43\u001B[0m \u001B[1;31m# df_res = data\u001B[0m\u001B[1;33m\u001B[0m\u001B[1;33m\u001B[0m\u001B[1;33m\u001B[0m\u001B[0m\n\u001B[1;32m---> 44\u001B[1;33m \u001B[0mdf_mean\u001B[0m \u001B[1;33m=\u001B[0m \u001B[0mget_mean_by_time\u001B[0m\u001B[1;33m(\u001B[0m\u001B[1;34m'20190101'\u001B[0m\u001B[1;33m,\u001B[0m \u001B[1;34m'20190107'\u001B[0m\u001B[1;33m)\u001B[0m\u001B[1;33m\u001B[0m\u001B[1;33m\u001B[0m\u001B[0m\n\u001B[0m\u001B[0;32m     45\u001B[0m \u001B[0mdf_mean1\u001B[0m \u001B[1;33m=\u001B[0m \u001B[0mget_mean_by_time\u001B[0m\u001B[1;33m(\u001B[0m\u001B[1;34m'20200101'\u001B[0m\u001B[1;33m,\u001B[0m \u001B[1;34m'20200107'\u001B[0m\u001B[1;33m)\u001B[0m\u001B[1;33m\u001B[0m\u001B[1;33m\u001B[0m\u001B[0m\n\u001B[0;32m     46\u001B[0m \u001B[0mdf_res\u001B[0m \u001B[1;33m=\u001B[0m \u001B[0mdata\u001B[0m\u001B[1;33m.\u001B[0m\u001B[0mjoin\u001B[0m\u001B[1;33m(\u001B[0m\u001B[0mdf_mean\u001B[0m\u001B[1;33m,\u001B[0m \u001B[0mhow\u001B[0m\u001B[1;33m=\u001B[0m\u001B[1;34m'outer'\u001B[0m\u001B[1;33m)\u001B[0m\u001B[1;33m\u001B[0m\u001B[1;33m\u001B[0m\u001B[0m\n",
      "\u001B[1;32m~\\AppData\\Local\\Temp/ipykernel_8796/3923109750.py\u001B[0m in \u001B[0;36mget_mean_by_time\u001B[1;34m(start_date, end_date)\u001B[0m\n\u001B[0;32m     33\u001B[0m \u001B[1;31m# 先获取2019年各个股平均值作为基数，判断2020年之后和基数的比较\u001B[0m\u001B[1;33m\u001B[0m\u001B[1;33m\u001B[0m\u001B[1;33m\u001B[0m\u001B[0m\n\u001B[0;32m     34\u001B[0m \u001B[1;32mdef\u001B[0m \u001B[0mget_mean_by_time\u001B[0m\u001B[1;33m(\u001B[0m\u001B[0mstart_date\u001B[0m\u001B[1;33m,\u001B[0m \u001B[0mend_date\u001B[0m\u001B[1;33m)\u001B[0m\u001B[1;33m:\u001B[0m\u001B[1;33m\u001B[0m\u001B[1;33m\u001B[0m\u001B[0m\n\u001B[1;32m---> 35\u001B[1;33m     \u001B[0mdf\u001B[0m \u001B[1;33m=\u001B[0m \u001B[0mpro\u001B[0m\u001B[1;33m.\u001B[0m\u001B[0mdaily\u001B[0m\u001B[1;33m(\u001B[0m\u001B[0mts_code\u001B[0m\u001B[1;33m=\u001B[0m\u001B[0mts_codes\u001B[0m\u001B[1;33m,\u001B[0m \u001B[0mstart_date\u001B[0m\u001B[1;33m=\u001B[0m\u001B[0mstart_date\u001B[0m\u001B[1;33m,\u001B[0m \u001B[0mend_date\u001B[0m\u001B[1;33m=\u001B[0m\u001B[0mend_date\u001B[0m\u001B[1;33m)\u001B[0m\u001B[1;33m\u001B[0m\u001B[1;33m\u001B[0m\u001B[0m\n\u001B[0m\u001B[0;32m     36\u001B[0m     \u001B[0mser_mean\u001B[0m \u001B[1;33m=\u001B[0m \u001B[0mdf\u001B[0m\u001B[1;33m[\u001B[0m\u001B[1;34m'close'\u001B[0m\u001B[1;33m]\u001B[0m\u001B[1;33m.\u001B[0m\u001B[0mgroupby\u001B[0m\u001B[1;33m(\u001B[0m\u001B[0mby\u001B[0m\u001B[1;33m=\u001B[0m\u001B[0mdf\u001B[0m\u001B[1;33m[\u001B[0m\u001B[1;34m'ts_code'\u001B[0m\u001B[1;33m]\u001B[0m\u001B[1;33m)\u001B[0m\u001B[1;33m.\u001B[0m\u001B[0mmean\u001B[0m\u001B[1;33m(\u001B[0m\u001B[1;33m)\u001B[0m\u001B[1;33m\u001B[0m\u001B[1;33m\u001B[0m\u001B[0m\n\u001B[0;32m     37\u001B[0m     \u001B[0mdict_mean\u001B[0m \u001B[1;33m=\u001B[0m \u001B[1;33m{\u001B[0m\u001B[1;34m'ts_code'\u001B[0m\u001B[1;33m:\u001B[0m \u001B[0mser_mean\u001B[0m\u001B[1;33m.\u001B[0m\u001B[0mindex\u001B[0m\u001B[1;33m,\u001B[0m \u001B[0mstart_date\u001B[0m\u001B[1;33m:\u001B[0m \u001B[0mser_mean\u001B[0m\u001B[1;33m.\u001B[0m\u001B[0mvalues\u001B[0m\u001B[1;33m}\u001B[0m\u001B[1;33m\u001B[0m\u001B[1;33m\u001B[0m\u001B[0m\n",
      "\u001B[1;32md:\\code\\python\\money\\venv\\lib\\site-packages\\tushare\\pro\\client.py\u001B[0m in \u001B[0;36mquery\u001B[1;34m(self, api_name, fields, **kwargs)\u001B[0m\n\u001B[0;32m     42\u001B[0m             \u001B[0mresult\u001B[0m \u001B[1;33m=\u001B[0m \u001B[0mjson\u001B[0m\u001B[1;33m.\u001B[0m\u001B[0mloads\u001B[0m\u001B[1;33m(\u001B[0m\u001B[0mres\u001B[0m\u001B[1;33m.\u001B[0m\u001B[0mtext\u001B[0m\u001B[1;33m)\u001B[0m\u001B[1;33m\u001B[0m\u001B[1;33m\u001B[0m\u001B[0m\n\u001B[0;32m     43\u001B[0m             \u001B[1;32mif\u001B[0m \u001B[0mresult\u001B[0m\u001B[1;33m[\u001B[0m\u001B[1;34m'code'\u001B[0m\u001B[1;33m]\u001B[0m \u001B[1;33m!=\u001B[0m \u001B[1;36m0\u001B[0m\u001B[1;33m:\u001B[0m\u001B[1;33m\u001B[0m\u001B[1;33m\u001B[0m\u001B[0m\n\u001B[1;32m---> 44\u001B[1;33m                 \u001B[1;32mraise\u001B[0m \u001B[0mException\u001B[0m\u001B[1;33m(\u001B[0m\u001B[0mresult\u001B[0m\u001B[1;33m[\u001B[0m\u001B[1;34m'msg'\u001B[0m\u001B[1;33m]\u001B[0m\u001B[1;33m)\u001B[0m\u001B[1;33m\u001B[0m\u001B[1;33m\u001B[0m\u001B[0m\n\u001B[0m\u001B[0;32m     45\u001B[0m             \u001B[0mdata\u001B[0m \u001B[1;33m=\u001B[0m \u001B[0mresult\u001B[0m\u001B[1;33m[\u001B[0m\u001B[1;34m'data'\u001B[0m\u001B[1;33m]\u001B[0m\u001B[1;33m\u001B[0m\u001B[1;33m\u001B[0m\u001B[0m\n\u001B[0;32m     46\u001B[0m             \u001B[0mcolumns\u001B[0m \u001B[1;33m=\u001B[0m \u001B[0mdata\u001B[0m\u001B[1;33m[\u001B[0m\u001B[1;34m'fields'\u001B[0m\u001B[1;33m]\u001B[0m\u001B[1;33m\u001B[0m\u001B[1;33m\u001B[0m\u001B[0m\n",
      "\u001B[1;31mException\u001B[0m: 列表个数超过限制100个！"
     ]
    }
   ],
   "source": [
    "import pandas as pd\n",
    "import tushare as ts\n",
    "\n",
    "# 行业分析\n",
    "\n",
    "# pro = ts.pro_api()\n",
    "tu_token = 'fba0f69c02f5e4399b8dd63ae895ca69b7a55122a545c6f0f2c2bef3'\n",
    "ts.set_token(tu_token)\n",
    "pro = ts.pro_api(tu_token)\n",
    "\n",
    "# 目标\n",
    "obj_ts_code = \"002223.SZ\"\n",
    "\n",
    "# 目标行业\n",
    "pro.stock_basic(exchange='', fields='industry')\n",
    "\n",
    "# 行业\n",
    "trade = pro.stock_basic(exchange='', ts_code=obj_ts_code, fields='industry').iloc[0]['industry']\n",
    "\n",
    "#查询当前所有正常上市交易的股票列表\n",
    "ts_codes = '002223.SZ,000150.SZ'\n",
    "data = pro.stock_basic(exchange='', fields='ts_code,name,area,industry,market,list_date')\n",
    "data = data[data['industry'] == trade]\n",
    "ts_codes = \"\"\n",
    "for index, row in data.iterrows():\n",
    "    ts_codes += str(row['ts_code']) + \",\"\n",
    "# print(data)\n",
    "print(ts_codes)\n",
    "data = data.set_index('ts_code', drop=True)\n",
    "data.to_csv(\"../%s.csv\" % trade)\n",
    "\n",
    "\n",
    "# 先获取2019年各个股平均值作为基数，判断2020年之后和基数的比较\n",
    "def get_mean_by_time(start_date, end_date):\n",
    "    df = pro.daily(ts_code=ts_codes, start_date=start_date, end_date=end_date)\n",
    "    ser_mean = df['close'].groupby(by=df['ts_code']).mean()\n",
    "    dict_mean = {'ts_code': ser_mean.index, start_date: ser_mean.values}\n",
    "    df_mean = pd.DataFrame(dict_mean)\n",
    "    df_mean = df_mean.set_index('ts_code')\n",
    "    return df_mean\n",
    "\n",
    "\n",
    "# df_res = data\n",
    "df_mean = get_mean_by_time('20190101', '20190107')\n",
    "df_mean1 = get_mean_by_time('20200101', '20200107')\n",
    "df_res = data.join(df_mean, how='outer')\n",
    "# df_res = df_res.join(df_mean1, how='outer')\n",
    "df_res"
   ]
  }
 ],
 "metadata": {
  "kernelspec": {
   "display_name": "Python 3",
   "language": "python",
   "name": "python3"
  },
  "language_info": {
   "codemirror_mode": {
    "name": "ipython",
    "version": 2
   },
   "file_extension": ".py",
   "mimetype": "text/x-python",
   "name": "python",
   "nbconvert_exporter": "python",
   "pygments_lexer": "ipython2",
   "version": "2.7.6"
  }
 },
 "nbformat": 4,
 "nbformat_minor": 0
}