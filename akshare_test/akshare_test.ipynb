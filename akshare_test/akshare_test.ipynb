{
 "cells": [
  {
   "cell_type": "code",
   "execution_count": 12,
   "metadata": {
    "collapsed": true
   },
   "outputs": [
    {
     "data": {
      "text/plain": "                    时间   开盘     收盘     最高     最低  成交量        成交额     最新价\n0  2022-03-01 09:31:00  0.0  49.45  49.76  49.43  207  1027063.0  49.624\n1  2022-03-01 09:32:00  0.0  49.60  49.60  49.44  134   663642.0  49.587\n2  2022-03-01 09:33:00  0.0  49.56  49.60  49.53   96   475915.0  49.585\n3  2022-03-01 09:34:00  0.0  49.67  49.68  49.59  218  1081964.0  49.600",
      "text/html": "<div>\n<style scoped>\n    .dataframe tbody tr th:only-of-type {\n        vertical-align: middle;\n    }\n\n    .dataframe tbody tr th {\n        vertical-align: top;\n    }\n\n    .dataframe thead th {\n        text-align: right;\n    }\n</style>\n<table border=\"1\" class=\"dataframe\">\n  <thead>\n    <tr style=\"text-align: right;\">\n      <th></th>\n      <th>时间</th>\n      <th>开盘</th>\n      <th>收盘</th>\n      <th>最高</th>\n      <th>最低</th>\n      <th>成交量</th>\n      <th>成交额</th>\n      <th>最新价</th>\n    </tr>\n  </thead>\n  <tbody>\n    <tr>\n      <th>0</th>\n      <td>2022-03-01 09:31:00</td>\n      <td>0.0</td>\n      <td>49.45</td>\n      <td>49.76</td>\n      <td>49.43</td>\n      <td>207</td>\n      <td>1027063.0</td>\n      <td>49.624</td>\n    </tr>\n    <tr>\n      <th>1</th>\n      <td>2022-03-01 09:32:00</td>\n      <td>0.0</td>\n      <td>49.60</td>\n      <td>49.60</td>\n      <td>49.44</td>\n      <td>134</td>\n      <td>663642.0</td>\n      <td>49.587</td>\n    </tr>\n    <tr>\n      <th>2</th>\n      <td>2022-03-01 09:33:00</td>\n      <td>0.0</td>\n      <td>49.56</td>\n      <td>49.60</td>\n      <td>49.53</td>\n      <td>96</td>\n      <td>475915.0</td>\n      <td>49.585</td>\n    </tr>\n    <tr>\n      <th>3</th>\n      <td>2022-03-01 09:34:00</td>\n      <td>0.0</td>\n      <td>49.67</td>\n      <td>49.68</td>\n      <td>49.59</td>\n      <td>218</td>\n      <td>1081964.0</td>\n      <td>49.600</td>\n    </tr>\n  </tbody>\n</table>\n</div>"
     },
     "execution_count": 12,
     "metadata": {},
     "output_type": "execute_result"
    }
   ],
   "source": [
    "import akshare as ak\n",
    "\n",
    "# stock_sse_summary_df = ak.stock_sse_summary()\n",
    "# print(stock_sse_summary_df)\n",
    "\n",
    "start_date = \"2022-03-01 09:30:01\"\n",
    "end_date = \"2022-03-01 09:34:00\"\n",
    "df = ak.stock_zh_a_hist_min_em(symbol=\"300571\", start_date=start_date, end_date=end_date, period='1', adjust='')\n",
    "#print(stock_zh_a_hist_min_em_df)\n",
    "df"
   ]
  }
 ],
 "metadata": {
  "kernelspec": {
   "display_name": "Python 3",
   "language": "python",
   "name": "python3"
  },
  "language_info": {
   "codemirror_mode": {
    "name": "ipython",
    "version": 2
   },
   "file_extension": ".py",
   "mimetype": "text/x-python",
   "name": "python",
   "nbconvert_exporter": "python",
   "pygments_lexer": "ipython2",
   "version": "2.7.6"
  }
 },
 "nbformat": 4,
 "nbformat_minor": 0
}