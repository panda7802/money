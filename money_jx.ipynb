{
 "cells": [
  {
   "cell_type": "code",
   "execution_count": 3,
   "metadata": {
    "collapsed": true
   },
   "outputs": [
    {
     "data": {
      "text/plain": "['20070614',\n '20071210',\n '20080423',\n '20080730',\n '20080806',\n '20080826',\n '20081114',\n '20081205',\n '20090306',\n '20090506',\n '20090602',\n '20090914',\n '20100322',\n '20100623',\n '20101209',\n '20110218',\n '20110304',\n '20110406',\n '20110630',\n '20111028',\n '20120113',\n '20120417',\n '20120613',\n '20120720',\n '20120913',\n '20120927',\n '20121207',\n '20130422',\n '20130509',\n '20130814',\n '20131015',\n '20131101',\n '20140121',\n '20140402',\n '20140528',\n '20140709',\n '20140718',\n '20140722',\n '20140905',\n '20141031',\n '20150317',\n '20150525',\n '20150608',\n '20150922',\n '20151204',\n '20151217',\n '20160304',\n '20160414',\n '20160531',\n '20160701',\n '20160713',\n '20160810',\n '20161101',\n '20170118',\n '20170324',\n '20170426',\n '20170822',\n '20171012',\n '20171208',\n '20171221',\n '20180112',\n '20180319',\n '20180606',\n '20180724',\n '20180809',\n '20180824',\n '20181022',\n '20181106',\n '20181119',\n '20190121',\n '20190613',\n '20190821',\n '20191014',\n '20191105',\n '20191219',\n '20200102',\n '20200420',\n '20200603',\n '20200703',\n '20200819',\n '20200915',\n '20201012',\n '20201109',\n '20210118',\n '20210224',\n '20210531']"
     },
     "execution_count": 3,
     "metadata": {},
     "output_type": "execute_result"
    }
   ],
   "source": [
    "import tushare as ts\n",
    "import numpy as np\n",
    "import matplotlib.pyplot as plt\n",
    "import pandas as pd\n",
    "from pandocfilters import Math\n",
    "\n",
    "ts.set_token('your token here')\n",
    "# pro = ts.pro_api()\n",
    "tu_token = 'fba0f69c02f5e4399b8dd63ae895ca69b7a55122a545c6f0f2c2bef3'\n",
    "pro = ts.pro_api(tu_token)\n",
    "# 平安\n",
    "ts_code = '601318.SH'\n",
    "df = pro.daily(ts_code=ts_code)[['trade_date', 'open', 'close', 'high']]\n",
    "df = df.sort_values(by='trade_date')\n",
    "df['ma5'] = np.nan\n",
    "df['ma30'] = np.nan\n",
    "# for i in range(4, len(df)):\n",
    "#     df.loc[df.index[i], 'ma5'] = df['close'][i - 4:i + 1].mean()\n",
    "# for i in range(30, len(df)):\n",
    "#     df.loc[df.index[i], 'ma30'] = df['close'][i - 29:i + 1].mean()\n",
    "df['ma5']=df['close'].rolling(5).mean()\n",
    "df['ma30']=df['close'].rolling(30).mean()\n",
    "# df = df.reset_index(drop=True)\n",
    "df = df.set_index('trade_date',drop=True)\n",
    "# df[['close','ma5','ma30']].plot()\n",
    "# plt.show()\n",
    "df\n",
    "\n",
    "df = df.dropna()\n",
    "golden_cross=[]\n",
    "death_cross=[]\n",
    "for i in range(1,len(df)):\n",
    "    if df['ma5'][i] >= df['ma30'][i] and df['ma5'][i-1] < df['ma30'][i-1]:\n",
    "        golden_cross.append(df.index[i])\n",
    "    if df['ma5'][i] <= df['ma30'][i] and df['ma5'][i-1] > df['ma30'][i-1]:\n",
    "        death_cross.append(df.index[i])\n",
    "# df.head(50)\n",
    "golden_cross\n",
    "\n"
   ]
  }
 ],
 "metadata": {
  "kernelspec": {
   "display_name": "Python 3",
   "language": "python",
   "name": "python3"
  },
  "language_info": {
   "codemirror_mode": {
    "name": "ipython",
    "version": 2
   },
   "file_extension": ".py",
   "mimetype": "text/x-python",
   "name": "python",
   "nbconvert_exporter": "python",
   "pygments_lexer": "ipython2",
   "version": "2.7.6"
  }
 },
 "nbformat": 4,
 "nbformat_minor": 0
}