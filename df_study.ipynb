{
 "cells": [
  {
   "cell_type": "code",
   "execution_count": 51,
   "metadata": {
    "collapsed": true,
    "pycharm": {
     "name": "#%%\n"
    }
   },
   "outputs": [
    {
     "name": "stdout",
     "output_type": "stream",
     "text": [
      "                   A         B         C\n",
      "2021-11-06  0.165070 -0.353611  1.173758\n",
      "2021-11-07  0.345120  0.179474 -1.536296\n",
      "2021-11-08 -0.346077  0.995172  0.660956\n",
      "2021-11-09 -0.529871  1.244336  0.983309\n",
      "2021-11-10 -0.602592 -0.656328 -1.038821\n"
     ]
    },
    {
     "data": {
      "text/plain": "C    1.173758\nB   -0.353611\nA    0.165070\nName: 2021-11-06 00:00:00, dtype: float64"
     },
     "execution_count": 51,
     "metadata": {},
     "output_type": "execute_result"
    }
   ],
   "source": [
    "import pandas as pd\n",
    "import numpy as np\n",
    "\n",
    "# s = pd.Series([1, 3, 5, np.nan, 6, 8])\n",
    "# s\n",
    "dates = pd.date_range('20211106', periods=5)\n",
    "# dates\n",
    "list_data = list(\"ABC\")\n",
    "df = pd.DataFrame(np.random.randn(len(dates), len(list_data)), index=dates, columns=list_data)\n",
    "# df\n",
    "\n",
    "df2 = pd.DataFrame({\"A\": 1.0,\n",
    "                    \"B\": pd.Timestamp(\"20130102\"),\n",
    "                    \"C\": pd.Series(1, index=list(range(4)), dtype=\"float32\"),\n",
    "                    \"D\": np.array([3] * 4, dtype=\"int32\"),\n",
    "                    \"E\": pd.Categorical([\"test\", \"train\", \"test\", \"train\"]),\n",
    "                    \"F\": \"foo\"})\n",
    "# df2\n",
    "# df2.dtypes\n",
    "# df2.to_numpy()\n",
    "print(df)\n",
    "# df.T\n",
    "df.sort_index(axis=1, ascending=False,inplace=True)\n",
    "# df.describe()\n",
    "# df['A']\n",
    "# df[\"2021-11-06\":\"20211108\"]\n",
    "df.loc[dates[0]]"
   ]
  }
 ],
 "metadata": {
  "kernelspec": {
   "display_name": "Python 3",
   "language": "python",
   "name": "python3"
  },
  "language_info": {
   "codemirror_mode": {
    "name": "ipython",
    "version": 2
   },
   "file_extension": ".py",
   "mimetype": "text/x-python",
   "name": "python",
   "nbconvert_exporter": "python",
   "pygments_lexer": "ipython2",
   "version": "2.7.6"
  }
 },
 "nbformat": 4,
 "nbformat_minor": 0
}