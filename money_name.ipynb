{
 "cells": [
  {
   "cell_type": "code",
   "execution_count": 80,
   "metadata": {
    "collapsed": true,
    "pycharm": {
     "name": "#%%\n"
    }
   },
   "outputs": [
    {
     "name": "stdout",
     "output_type": "stream",
     "text": [
      "24.52\n",
      "10.85\n",
      "9.5\n",
      "6.01\n",
      "11.33\n"
     ]
    },
    {
     "data": {
      "text/plain": "         交易码    名称      开始日期 现金  最新价格   持股数   总值\n0  000001.SZ  平安银行  20100101  1   2.0  3000  300\n1  000002.SZ   万科A  20100101  1   2.0  3000  300\n2  000004.SZ  国华网安  20100101  1   2.0  3000  300\n3  000005.SZ  ST星源  20100101  1   2.0  3000  300\n4  000006.SZ  深振业A  20100101  1   2.0  3000  300",
      "text/html": "<div>\n<style scoped>\n    .dataframe tbody tr th:only-of-type {\n        vertical-align: middle;\n    }\n\n    .dataframe tbody tr th {\n        vertical-align: top;\n    }\n\n    .dataframe thead th {\n        text-align: right;\n    }\n</style>\n<table border=\"1\" class=\"dataframe\">\n  <thead>\n    <tr style=\"text-align: right;\">\n      <th></th>\n      <th>交易码</th>\n      <th>名称</th>\n      <th>开始日期</th>\n      <th>现金</th>\n      <th>最新价格</th>\n      <th>持股数</th>\n      <th>总值</th>\n    </tr>\n  </thead>\n  <tbody>\n    <tr>\n      <th>0</th>\n      <td>000001.SZ</td>\n      <td>平安银行</td>\n      <td>20100101</td>\n      <td>1</td>\n      <td>2.0</td>\n      <td>3000</td>\n      <td>300</td>\n    </tr>\n    <tr>\n      <th>1</th>\n      <td>000002.SZ</td>\n      <td>万科A</td>\n      <td>20100101</td>\n      <td>1</td>\n      <td>2.0</td>\n      <td>3000</td>\n      <td>300</td>\n    </tr>\n    <tr>\n      <th>2</th>\n      <td>000004.SZ</td>\n      <td>国华网安</td>\n      <td>20100101</td>\n      <td>1</td>\n      <td>2.0</td>\n      <td>3000</td>\n      <td>300</td>\n    </tr>\n    <tr>\n      <th>3</th>\n      <td>000005.SZ</td>\n      <td>ST星源</td>\n      <td>20100101</td>\n      <td>1</td>\n      <td>2.0</td>\n      <td>3000</td>\n      <td>300</td>\n    </tr>\n    <tr>\n      <th>4</th>\n      <td>000006.SZ</td>\n      <td>深振业A</td>\n      <td>20100101</td>\n      <td>1</td>\n      <td>2.0</td>\n      <td>3000</td>\n      <td>300</td>\n    </tr>\n  </tbody>\n</table>\n</div>"
     },
     "execution_count": 80,
     "metadata": {},
     "output_type": "execute_result"
    }
   ],
   "source": [
    "import traceback\n",
    "\n",
    "import tushare as ts\n",
    "import numpy as np\n",
    "import matplotlib.pyplot as plt\n",
    "import pandas as pd\n",
    "from pandocfilters import Math\n",
    "\n",
    "ts.set_token('your token here')\n",
    "# pro = ts.pro_api()\n",
    "tu_token = 'fba0f69c02f5e4399b8dd63ae895ca69b7a55122a545c6f0f2c2bef3'\n",
    "pro = ts.pro_api(tu_token)\n",
    "start_date = '20100101'\n",
    "# end_date='20210930'\n",
    "end_date = '20180101'\n",
    "\n",
    "df_res = pd.DataFrame(columns=(\"交易码\", \"名称\", \"开始日期\", \"现金\", \"最新价格\", \"持股数\", \"总值\"))\n",
    "data = pro.stock_basic(exchange='', list_status='L', fields='ts_code,name,list_date', start_date=start_date)\n",
    "df_all = data.head(5)\n",
    "new = pd.DataFrame({'交易码': 'lisa',\n",
    "                    '名称': 'F'},\n",
    "                   index=[0])\n",
    "# df_res=df_res.append(new,ignore_index=True)\n",
    "for index, row in df_all.iterrows():\n",
    "    # print(row['list_date'])\n",
    "    try:\n",
    "        if str(start_date) > str(row['list_date']):\n",
    "            tmp_start_date = start_date\n",
    "        else:\n",
    "            tmp_start_date = row['list_date']\n",
    "        df_res = df_res.append(pd.DataFrame({\"交易码\": row['ts_code'], \"名称\": row['name'],\n",
    "                                             \"开始日期\": tmp_start_date,\n",
    "                                             \"现金\": 1,\n",
    "                                             \"最新价格\": 2.0,\n",
    "                                             \"持股数\": 3000,\n",
    "                                             \"总值\": 300}, index=[0]), ignore_index=True)\n",
    "    except  Exception as e:\n",
    "        traceback.format_exc()\n",
    "    # print(tmp_start_date)\n",
    "df_res\n",
    "# df_res.to_csv(\"../res.xlxs\")"
   ]
  }
 ],
 "metadata": {
  "kernelspec": {
   "display_name": "Python 3",
   "language": "python",
   "name": "python3"
  },
  "language_info": {
   "codemirror_mode": {
    "name": "ipython",
    "version": 2
   },
   "file_extension": ".py",
   "mimetype": "text/x-python",
   "name": "python",
   "nbconvert_exporter": "python",
   "pygments_lexer": "ipython2",
   "version": "2.7.6"
  }
 },
 "nbformat": 4,
 "nbformat_minor": 0
}