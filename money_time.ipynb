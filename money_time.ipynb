{
 "cells": [
  {
   "cell_type": "code",
   "execution_count": 1,
   "metadata": {
    "collapsed": true
   },
   "outputs": [
    {
     "name": "stdout",
     "output_type": "stream",
     "text": [
      "抱歉，您输入的TOKEN无效！\n",
      "抱歉，您输入的TOKEN无效！\n",
      "抱歉，您输入的TOKEN无效！\n"
     ]
    },
    {
     "ename": "OSError",
     "evalue": "ERROR.",
     "output_type": "error",
     "traceback": [
      "\u001B[1;31m---------------------------------------------------------------------------\u001B[0m",
      "\u001B[1;31mOSError\u001B[0m                                   Traceback (most recent call last)",
      "\u001B[1;32m~\\AppData\\Local\\Temp/ipykernel_10284/4189103730.py\u001B[0m in \u001B[0;36m<module>\u001B[1;34m\u001B[0m\n\u001B[0;32m      9\u001B[0m \u001B[1;31m# 东财\u001B[0m\u001B[1;33m\u001B[0m\u001B[1;33m\u001B[0m\u001B[1;33m\u001B[0m\u001B[0m\n\u001B[0;32m     10\u001B[0m \u001B[0mts_code\u001B[0m\u001B[1;33m=\u001B[0m\u001B[1;34m'601208.SH'\u001B[0m\u001B[1;33m\u001B[0m\u001B[1;33m\u001B[0m\u001B[0m\n\u001B[1;32m---> 11\u001B[1;33m \u001B[0mdf\u001B[0m \u001B[1;33m=\u001B[0m \u001B[0mts\u001B[0m\u001B[1;33m.\u001B[0m\u001B[0mpro_bar\u001B[0m\u001B[1;33m(\u001B[0m\u001B[0mts_code\u001B[0m\u001B[1;33m=\u001B[0m\u001B[0mts_code\u001B[0m\u001B[1;33m,\u001B[0m \u001B[0masset\u001B[0m\u001B[1;33m=\u001B[0m\u001B[1;34m'I'\u001B[0m\u001B[1;33m,\u001B[0m\u001B[0mstart_date\u001B[0m\u001B[1;33m=\u001B[0m\u001B[1;34m'20210801'\u001B[0m\u001B[1;33m,\u001B[0m\u001B[0mfreq\u001B[0m\u001B[1;33m=\u001B[0m\u001B[1;34m'60min'\u001B[0m\u001B[1;33m)\u001B[0m\u001B[1;33m\u001B[0m\u001B[1;33m\u001B[0m\u001B[0m\n\u001B[0m\u001B[0;32m     12\u001B[0m \u001B[0mdf\u001B[0m\u001B[1;33m.\u001B[0m\u001B[0mhead\u001B[0m\u001B[1;33m(\u001B[0m\u001B[1;36m28\u001B[0m\u001B[1;33m)\u001B[0m\u001B[1;33m\u001B[0m\u001B[1;33m\u001B[0m\u001B[0m\n",
      "\u001B[1;32md:\\code\\python\\money\\venv\\lib\\site-packages\\tushare\\pro\\data_pro.py\u001B[0m in \u001B[0;36mpro_bar\u001B[1;34m(ts_code, api, start_date, end_date, freq, asset, exchange, adj, ma, factors, adjfactor, offset, limit, contract_type, retry_count)\u001B[0m\n\u001B[0;32m    191\u001B[0m         \u001B[1;32melse\u001B[0m\u001B[1;33m:\u001B[0m\u001B[1;33m\u001B[0m\u001B[1;33m\u001B[0m\u001B[0m\n\u001B[0;32m    192\u001B[0m             \u001B[1;32mreturn\u001B[0m \u001B[0mdata\u001B[0m\u001B[1;33m\u001B[0m\u001B[1;33m\u001B[0m\u001B[0m\n\u001B[1;32m--> 193\u001B[1;33m     \u001B[1;32mraise\u001B[0m \u001B[0mIOError\u001B[0m\u001B[1;33m(\u001B[0m\u001B[1;34m'ERROR.'\u001B[0m\u001B[1;33m)\u001B[0m\u001B[1;33m\u001B[0m\u001B[1;33m\u001B[0m\u001B[0m\n\u001B[0m\u001B[0;32m    194\u001B[0m \u001B[1;33m\u001B[0m\u001B[0m\n\u001B[0;32m    195\u001B[0m \u001B[1;33m\u001B[0m\u001B[0m\n",
      "\u001B[1;31mOSError\u001B[0m: ERROR."
     ]
    }
   ],
   "source": [
    "import tushare as ts\n",
    "\n",
    "ts.set_token('your token here')\n",
    "# pro = ts.pro_api()\n",
    "tu_token = 'fba0f69c02f5e4399b8dd63ae895ca69b7a55122a545c6f0f2c2bef3'\n",
    "pro = ts.pro_api(tu_token)\n",
    "#查询当前所有正常上市交易的股票列表\n",
    "# data = pro.query('stock_basic', exchange='', list_status='L', fields='ts_code,symbol,name,area,industry,list_date')\n",
    "# 东财\n",
    "ts_code='601208.SH'\n",
    "df = ts.pro_bar(ts_code=ts_code, asset='I',start_date='20210801',freq='60min')\n",
    "df.head(28)"
   ]
  }
 ],
 "metadata": {
  "kernelspec": {
   "display_name": "Python 3",
   "language": "python",
   "name": "python3"
  },
  "language_info": {
   "codemirror_mode": {
    "name": "ipython",
    "version": 2
   },
   "file_extension": ".py",
   "mimetype": "text/x-python",
   "name": "python",
   "nbconvert_exporter": "python",
   "pygments_lexer": "ipython2",
   "version": "2.7.6"
  }
 },
 "nbformat": 4,
 "nbformat_minor": 0
}