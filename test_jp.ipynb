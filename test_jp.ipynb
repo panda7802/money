{
 "cells": [
  {
   "cell_type": "code",
   "execution_count": 2,
   "metadata": {
    "pycharm": {
     "name": "#%%\n"
    }
   },
   "outputs": [
    {
     "data": {
      "text/plain": "1"
     },
     "execution_count": 2,
     "metadata": {},
     "output_type": "execute_result"
    }
   ],
   "source": [
    "import math\n",
    "import datetime\n",
    "\n",
    "import pandas as pd\n",
    "from dateutil.relativedelta import relativedelta\n",
    "\n",
    "# a = 1 + 3\n",
    "# b = a * 2\n",
    "# c = b + 3\n",
    "#\n",
    "# s = \"abcd\"\n",
    "# res = \"\"\n",
    "# for i in range(len(s)):\n",
    "#     res += s[i] + '\\n'\n",
    "#\n",
    "# print(res)\n",
    "str_dates = ['20190101']\n",
    "start_date = datetime.datetime.strptime('20200101', '%Y%m%d')\n",
    "\n",
    "# s_start_date\n",
    "for i in range(0, 100):\n",
    "    tmp_date = start_date + relativedelta(month=i % 12 + 1, years=i // 12)\n",
    "    # print(f'{i} : {tmp_date} , {i % 13}')\n",
    "    if tmp_date > datetime.datetime.strptime('20211001', '%Y%m%d'):\n",
    "        break\n",
    "    else:\n",
    "        s_start_date = tmp_date.strftime(\"%Y%m%d\")\n",
    "        str_dates.append(s_start_date)\n",
    "start_date"
   ]
  }
 ],
 "metadata": {
  "kernelspec": {
   "display_name": "Python 3 (ipykernel)",
   "language": "python",
   "name": "python3"
  },
  "language_info": {
   "codemirror_mode": {
    "name": "ipython",
    "version": 3
   },
   "file_extension": ".py",
   "mimetype": "text/x-python",
   "name": "python",
   "nbconvert_exporter": "python",
   "pygments_lexer": "ipython3",
   "version": "3.8.10"
  }
 },
 "nbformat": 4,
 "nbformat_minor": 1
}