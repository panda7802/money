{
 "cells": [
  {
   "cell_type": "code",
   "execution_count": 31,
   "metadata": {
    "pycharm": {
     "name": "#%%\n"
    }
   },
   "outputs": [
    {
     "data": {
      "text/plain": "['20190101',\n '20200101',\n '20200201',\n '20200301',\n '20200401',\n '20200501',\n '20200601',\n '20200701',\n '20200801',\n '20200901',\n '20201001',\n '20201101',\n '20201201',\n '20210101',\n '20210201',\n '20210301',\n '20210401',\n '20210501',\n '20210601',\n '20210701',\n '20210801',\n '20210901',\n '20211001']"
     },
     "execution_count": 31,
     "metadata": {},
     "output_type": "execute_result"
    }
   ],
   "source": [
    "import math\n",
    "import datetime\n",
    "\n",
    "import pandas as pd\n",
    "from dateutil.relativedelta import relativedelta\n",
    "\n",
    "# a = 1 + 3\n",
    "# b = a * 2\n",
    "# c = b + 3\n",
    "#\n",
    "# s = \"abcd\"\n",
    "# res = \"\"\n",
    "# for i in range(len(s)):\n",
    "#     res += s[i] + '\\n'\n",
    "#\n",
    "# print(res)\n",
    "str_dates = ['20190101']\n",
    "start_date = datetime.datetime.strptime('20200101', '%Y%m%d')\n",
    "\n",
    "# s_start_date\n",
    "for i in range(0, 100):\n",
    "    tmp_date = start_date + relativedelta(month=i % 12 + 1, years=i // 12)\n",
    "    # print(f'{i} : {tmp_date} , {i % 13}')\n",
    "    if tmp_date > datetime.datetime.strptime('20211001', '%Y%m%d'):\n",
    "        break\n",
    "    else:\n",
    "        s_start_date = tmp_date.strftime(\"%Y%m%d\")\n",
    "        str_dates.append(s_start_date)\n",
    "str_dates"
   ]
  }
 ],
 "metadata": {
  "kernelspec": {
   "display_name": "Python 3 (ipykernel)",
   "language": "python",
   "name": "python3"
  },
  "language_info": {
   "codemirror_mode": {
    "name": "ipython",
    "version": 3
   },
   "file_extension": ".py",
   "mimetype": "text/x-python",
   "name": "python",
   "nbconvert_exporter": "python",
   "pygments_lexer": "ipython3",
   "version": "3.8.10"
  }
 },
 "nbformat": 4,
 "nbformat_minor": 1
}